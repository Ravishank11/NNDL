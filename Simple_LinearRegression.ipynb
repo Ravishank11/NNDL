{
  "nbformat": 4,
  "nbformat_minor": 0,
  "metadata": {
    "colab": {
      "provenance": []
    },
    "kernelspec": {
      "name": "python3",
      "display_name": "Python 3"
    },
    "language_info": {
      "name": "python"
    }
  },
  "cells": [
    {
      "cell_type": "code",
      "execution_count": 1,
      "metadata": {
        "colab": {
          "base_uri": "https://localhost:8080/"
        },
        "id": "K50Ea6F9idh6",
        "outputId": "6f1dec59-f213-45bb-d235-c4b1c725ea56"
      },
      "outputs": [
        {
          "output_type": "stream",
          "name": "stdout",
          "text": [
            "Slope - 2.6271186440677967\n",
            "Intercept - -3.796610169491526\n"
          ]
        }
      ],
      "source": [
        "def linear_regression(x,y):\n",
        "  n = len(x)\n",
        "  x_sum = sum(x)\n",
        "  y_sum = sum(y)\n",
        "  xy_sum = sum([xi*yi for xi,yi in zip(x,y)])\n",
        "  x_squared_sum = sum([xi**2 for xi in x])\n",
        "\n",
        "  #Calculate b1(or slope) and b0(or intercept)\n",
        "  b1 = (n*xy_sum - x_sum*y_sum)/(n*x_squared_sum - x_sum**2)\n",
        "  b0 = (y_sum-b1*x_sum)/n\n",
        "\n",
        "  return b1, b0\n",
        "\n",
        "\n",
        "x = [5,6,8,10]\n",
        "y = [11,11,15,24]\n",
        "\n",
        "b1, b0 = linear_regression(x,y)\n",
        "\n",
        "\n",
        "print(\"Slope -\",b1)\n",
        "print(\"Intercept -\",b0)"
      ]
    },
    {
      "cell_type": "markdown",
      "source": [],
      "metadata": {
        "id": "RjQLP3ddqspF"
      }
    },
    {
      "cell_type": "code",
      "source": [
        "# Importing library\n",
        "import numpy as np\n",
        "\n",
        "\n",
        "#Initializing variables for AND Gate\n",
        "X = np.asarray([[0,0],[0,1],[1,0],[1,1]])\n",
        "W = np.asarray([1,1])\n",
        "Wsum_Arr = np.dot(X,W)\n",
        "\n",
        "y_pred = np.asarray([0,0,0,0])\n",
        "\n",
        "\n",
        "# STEP Function\n",
        "def step(NW,n):\n",
        "  if (NW[n]>=1.5):\n",
        "    return 1\n",
        "  else:\n",
        "    return 0\n",
        "\n",
        "\n",
        "for i in range(X.shape[0]):\n",
        "  y_pred[i] = step(Wsum_Arr,i)\n",
        "\n",
        "print(y_pred) #Expected Output: [0,0,0,1]"
      ],
      "metadata": {
        "colab": {
          "base_uri": "https://localhost:8080/"
        },
        "id": "fLZs21p3qtVb",
        "outputId": "41923a4d-35bc-49f4-ed9b-13faa9073a21"
      },
      "execution_count": 2,
      "outputs": [
        {
          "output_type": "stream",
          "name": "stdout",
          "text": [
            "[0 0 0 1]\n"
          ]
        }
      ]
    },
    {
      "cell_type": "code",
      "source": [
        "# Importing library\n",
        "import numpy as np\n",
        "\n",
        "\n",
        "#Initializing variables for OR Gate\n",
        "X = np.asarray([[0,0],[0,1],[1,0],[1,1]])\n",
        "W = np.asarray([1,1])\n",
        "Wsum_Arr = np.dot(X,W)\n",
        "Theta = 1\n",
        "\n",
        "y_pred = np.asarray([0,0,0,0])\n",
        "\n",
        "\n",
        "# STEP Function\n",
        "def step(NW,n):\n",
        "  if (NW[n]>=Theta):\n",
        "    return 1\n",
        "  else:\n",
        "    return 0\n",
        "\n",
        "\n",
        "for i in range(X.shape[0]):\n",
        "  y_pred[i] = step(Wsum_Arr,i)\n",
        "\n",
        "print(y_pred) #Expected Output: [0,1,1,1]"
      ],
      "metadata": {
        "colab": {
          "base_uri": "https://localhost:8080/"
        },
        "id": "i46L8h4aqz0k",
        "outputId": "306151e8-26b9-4d5d-d0a7-d070155573fc"
      },
      "execution_count": 3,
      "outputs": [
        {
          "output_type": "stream",
          "name": "stdout",
          "text": [
            "[0 1 1 1]\n"
          ]
        }
      ]
    }
  ]
}